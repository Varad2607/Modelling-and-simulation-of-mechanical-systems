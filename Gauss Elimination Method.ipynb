{
 "cells": [
  {
   "cell_type": "code",
   "execution_count": 3,
   "metadata": {},
   "outputs": [
    {
     "name": "stdout",
     "output_type": "stream",
     "text": [
      "Enter number of unknown variables: 4\n",
      "Enter Matrix Coefficients:\n",
      "a[1][1]=2.04\n",
      "a[1][2]=-1\n",
      "a[1][3]=0\n",
      "a[1][4]=0\n",
      "a[1][5]=40.8\n",
      "a[2][1]=-1\n",
      "a[2][2]=2.04\n",
      "a[2][3]=-1\n",
      "a[2][4]=0\n",
      "a[2][5]=0.8\n",
      "a[3][1]=0\n",
      "a[3][2]=-1\n",
      "a[3][3]=2.04\n",
      "a[3][4]=-1\n",
      "a[3][5]=0.8\n",
      "a[4][1]=0\n",
      "a[4][2]=0\n",
      "a[4][3]=-1\n",
      "a[4][4]=2.04\n",
      "a[4][5]=200.8\n",
      "\n",
      "Required solution is: \n",
      "x[1] =  65.969834\n",
      "x[2] =  93.778462\n",
      "x[3] =  124.538228\n",
      "x[4] =  159.479524\n"
     ]
    }
   ],
   "source": [
    "import numpy as np                                                     \n",
    "import sys\n",
    "\n",
    "n = int(input('Enter number of unknown variables: '))                 \n",
    "\n",
    "a = np.zeros((n,n+1))                               \n",
    "\n",
    "x = np.zeros(n)                                     \n",
    "print('Enter Matrix Coefficients:')                                     \n",
    "for i in range(n):\n",
    "    for j in range(n+1):                                              \n",
    "        a[i][j] = float(input( 'a['+str(i+1)+']['+ str(j+1)+']='))\n",
    "\n",
    "for i in range(n):                                                     \n",
    "    maxindex = abs(a[i:,i]).argmax() + i\n",
    "    if maxindex != i:\n",
    "        a[[i,maxindex]] = a[[maxindex,i]]\n",
    "    for j in range(i+1, n):                                          \n",
    "        ratio = a[j][i]/a[i][i]   \n",
    "        for k in range(n+1):\n",
    "            a[j][k] = a[j][k] - ratio * a[i][k]\n",
    "\n",
    "x[n-1] = a[n-1][n]/a[n-1][n-1]                                         \n",
    "for i in range(n-2,-1,-1):\n",
    "    x[i] = a[i][n]\n",
    "    for j in range(i+1,n):\n",
    "        x[i] = x[i] - a[i][j]*x[j]\n",
    "    x[i] = x[i]/a[i][i]\n",
    "\n",
    "print('\\nRequired solution is: ')                                      \n",
    "for i in range(n):                                                     \n",
    "    print('x[' + str(i+1) + '] = ',round(x[i],6))"
   ]
  },
  {
   "cell_type": "code",
   "execution_count": null,
   "metadata": {},
   "outputs": [],
   "source": []
  }
 ],
 "metadata": {
  "kernelspec": {
   "display_name": "Python 3",
   "language": "python",
   "name": "python3"
  },
  "language_info": {
   "codemirror_mode": {
    "name": "ipython",
    "version": 3
   },
   "file_extension": ".py",
   "mimetype": "text/x-python",
   "name": "python",
   "nbconvert_exporter": "python",
   "pygments_lexer": "ipython3",
   "version": "3.8.3"
  }
 },
 "nbformat": 4,
 "nbformat_minor": 4
}
