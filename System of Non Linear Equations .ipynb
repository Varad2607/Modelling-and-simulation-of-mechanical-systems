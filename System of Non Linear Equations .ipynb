{
 "cells": [
  {
   "cell_type": "code",
   "execution_count": 23,
   "metadata": {},
   "outputs": [
    {
     "name": "stdout",
     "output_type": "stream",
     "text": [
      "Enter guess value for x : 500\n",
      "Enter guess value for y : 400\n",
      "Enter the allowable error : 0.00001\n",
      "Iteration-1, x1 = 444.412092 and y1 = 363.828604 and error_x = 55.587908 and error_y = 36.171396\n",
      "Iteration-2, x1 = 440.570324 and y1 = 360.724893 and error_x = 3.841768 and error_y = 3.103710\n",
      "Iteration-3, x1 = 440.542410 and y1 = 360.698939 and error_x = 0.027914 and error_y = 0.025954\n",
      "Iteration-4, x1 = 440.542408 and y1 = 360.698938 and error_x = 0.000002 and error_y = 0.000002\n",
      "Required value is : x = 440.542407669968 and y = 360.698937632609\n"
     ]
    }
   ],
   "source": [
    "import math\n",
    "from sympy import symbols, diff\n",
    "x0 = float(input('Enter guess value for x : '))\n",
    "y0 = float(input('Enter guess value for y : '))\n",
    "e = float(input('Enter the allowable error : '))\n",
    "x, y = symbols('x y ')\n",
    "u = 4 * (x - y) + ((x ** 4) * (10 ** (-9))) - (357.04)\n",
    "v = 4 * (x - y) - (1.3 * ((y - 298) ** 1.33))\n",
    "iteration = 1\n",
    "condition = True\n",
    "while condition:\n",
    "    ux = diff(u, x).subs(x,x0).subs(y,y0)\n",
    "    uy = diff(u, y).subs(x,x0).subs(y,y0)\n",
    "    vx = diff(v, x).subs(x,x0).subs(y,y0)\n",
    "    vy = diff(v, y).subs(x,x0).subs(y,y0)\n",
    "    U = u.subs(x,x0).subs(y,y0)\n",
    "    V = v.subs(x,x0).subs(y,y0)\n",
    "    \n",
    "    num_x = (U*vy) - (V*uy)\n",
    "    num_y = (V*ux) - (U*vx)\n",
    "    den_J = (ux*vy) - (uy*vx)\n",
    "    if den_J == 0.0:\n",
    "        print('Divide by zero error detected')\n",
    "        break\n",
    "    ratio_x = num_x / den_J\n",
    "    ratio_y = num_y / den_J\n",
    "    x1 = x0 - ratio_x\n",
    "    y1 = y0 - ratio_y\n",
    "    \n",
    "    error_x = abs(x1 - x0)\n",
    "    error_y = abs(y1 - y0)\n",
    "    \n",
    "    condition = error_x > e and error_y > e\n",
    "    print('Iteration-%d, x1 = %0.6f and y1 = %0.6f and error_x = %0.6f and error_y = %0.6f' % (iteration, x1, y1, error_x, error_y))\n",
    "    \n",
    "    iteration += 1\n",
    "    x0 = x1\n",
    "    y0 = y1\n",
    "    \n",
    "print('Required value is : x = ' + str(x0) + ' and y = ' + str(y0))"
   ]
  },
  {
   "cell_type": "code",
   "execution_count": 21,
   "metadata": {},
   "outputs": [
    {
     "data": {
      "text/latex": [
       "$\\displaystyle -210.072685200709$"
      ],
      "text/plain": [
       "-210.072685200709"
      ]
     },
     "execution_count": 21,
     "metadata": {},
     "output_type": "execute_result"
    }
   ],
   "source": [
    "import math\n",
    "from sympy import symbols, diff\n",
    "x, y = symbols('x y ')\n",
    "u = 4 * (x - y) + ((x ** 4) * (10 ** (-9))) - (357.04)\n",
    "v = 4 * (x - y) - (1.3 * ((y - 298) ** 1.33))\n",
    "v.subs(x,500).subs(y,400)"
   ]
  },
  {
   "cell_type": "code",
   "execution_count": null,
   "metadata": {},
   "outputs": [],
   "source": []
  }
 ],
 "metadata": {
  "kernelspec": {
   "display_name": "Python 3",
   "language": "python",
   "name": "python3"
  },
  "language_info": {
   "codemirror_mode": {
    "name": "ipython",
    "version": 3
   },
   "file_extension": ".py",
   "mimetype": "text/x-python",
   "name": "python",
   "nbconvert_exporter": "python",
   "pygments_lexer": "ipython3",
   "version": "3.8.3"
  }
 },
 "nbformat": 4,
 "nbformat_minor": 4
}
