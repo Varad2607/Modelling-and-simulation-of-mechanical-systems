{
 "cells": [
  {
   "cell_type": "code",
   "execution_count": 10,
   "metadata": {},
   "outputs": [
    {
     "name": "stdout",
     "output_type": "stream",
     "text": [
      "Enter number of data points: 6\n",
      "x[1]=40\n",
      "x[2]=50\n",
      "x[3]=60\n",
      "x[4]=70\n",
      "x[5]=80\n",
      "x[6]=90\n",
      "y[1]=184\n",
      "y[2]=204\n",
      "y[3]=226\n",
      "y[4]=250\n",
      "y[5]=276\n",
      "y[6]=304\n",
      "Enter the value at which function value is to be found : 46\n",
      "The function value is :  195.76000000000005\n"
     ]
    }
   ],
   "source": [
    "n = int(input('Enter number of data points: '))\n",
    "x = []\n",
    "y = []\n",
    "\n",
    "for i in range(n):\n",
    "    var_x = float(input( 'x['+str(i+1)+']='))\n",
    "    x.append(var_x)\n",
    "for i in range(n):\n",
    "    var_y = float(input( 'y['+str(i+1)+']='))\n",
    "    y.append(var_y)\n",
    "\n",
    "xp = float(input('Enter the value at which function value is to be found : '))\n",
    "yp = 0\n",
    "\n",
    "for i in range(n):   \n",
    "    p = 1   \n",
    "    for j in range(n):\n",
    "        if i != j:\n",
    "            p = p * (xp - x[j])/(x[i] - x[j])  \n",
    "    yp = yp + p * y[i]    \n",
    "\n",
    "print('The function value is : ', yp)"
   ]
  },
  {
   "cell_type": "code",
   "execution_count": null,
   "metadata": {},
   "outputs": [],
   "source": []
  }
 ],
 "metadata": {
  "kernelspec": {
   "display_name": "Python 3",
   "language": "python",
   "name": "python3"
  },
  "language_info": {
   "codemirror_mode": {
    "name": "ipython",
    "version": 3
   },
   "file_extension": ".py",
   "mimetype": "text/x-python",
   "name": "python",
   "nbconvert_exporter": "python",
   "pygments_lexer": "ipython3",
   "version": "3.8.3"
  }
 },
 "nbformat": 4,
 "nbformat_minor": 4
}
