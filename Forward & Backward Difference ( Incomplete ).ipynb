{
 "cells": [
  {
   "cell_type": "code",
   "execution_count": 28,
   "metadata": {},
   "outputs": [
    {
     "name": "stdout",
     "output_type": "stream",
     "text": [
      "Enter the number of data points : 6\n",
      "x1 = 0\n",
      "f(x1) = 0\n",
      "x2 = 0.2\n",
      "f(x2) = 0.0347\n",
      "x3 = 0.4\n",
      "f(x3) = 0.1173\n",
      "x4 = 0.6\n",
      "f(x4) = 0.216\n",
      "x5 = 0.8\n",
      "f(x5) = 0.2987\n",
      "x6 = 1\n",
      "f(x6) = 0.333\n",
      "\n",
      "FORWARD & BACKWARD DIFFERENCE TABLE\n",
      "\n",
      "0.0000\t\t0.0000\t\t0.0347\t\t0.0479\t\t-0.0318\t\t-0.0003\t\t-0.0000\n",
      "0.2000\t\t0.0347\t\t0.0826\t\t0.0161\t\t-0.0321\t\t-0.0003\n",
      "0.4000\t\t0.1173\t\t0.0987\t\t-0.0160\t\t-0.0324\n",
      "0.6000\t\t0.2160\t\t0.0827\t\t-0.0484\n",
      "0.8000\t\t0.2987\t\t0.0343\n",
      "1.0000\t\t0.3330\n"
     ]
    }
   ],
   "source": [
    "import numpy as np\n",
    "n = int(input('Enter the number of data points : '))\n",
    "xk = float(input('Enter the value at which function value is to be calculated : '))\n",
    "x = []\n",
    "delta = np.zeros((n,n))\n",
    "\n",
    "for i in range(n):\n",
    "    var_x = float(input( 'x'+str(i+1)+' = '))\n",
    "    x.append(var_x)\n",
    "    var_delta = float(input( 'f(x'+str(i+1)+') = '))\n",
    "    delta[i][0] = var_delta\n",
    "    \n",
    "for i in range(1,n):\n",
    "    for j in range(0,n-i):\n",
    "        delta[j][i] = delta[j+1][i-1] - delta[j][i-1]\n",
    "        \n",
    "for i in range(len(x)):\n",
    "    if x[i+1]-x[i] != x[i+2]-x[i+1]:\n",
    "        print('Input Error : No Equal Spacing')\n",
    "    else:\n",
    "        h = x[1] - x[0]\n",
    "        \n",
    "mid = (x[0] + x[n-1])\n",
    "if xk < mid:\n",
    "    print('Forward Difference Formula will be used')\n",
    "    \n",
    "elif xk > mid:\n",
    "    print('Backward Difference Formula will be used')\n",
    "    \n",
    "else:\n",
    "    print('The value is at the center')"
   ]
  },
  {
   "cell_type": "code",
   "execution_count": null,
   "metadata": {},
   "outputs": [],
   "source": []
  }
 ],
 "metadata": {
  "kernelspec": {
   "display_name": "Python 3",
   "language": "python",
   "name": "python3"
  },
  "language_info": {
   "codemirror_mode": {
    "name": "ipython",
    "version": 3
   },
   "file_extension": ".py",
   "mimetype": "text/x-python",
   "name": "python",
   "nbconvert_exporter": "python",
   "pygments_lexer": "ipython3",
   "version": "3.8.3"
  }
 },
 "nbformat": 4,
 "nbformat_minor": 4
}
