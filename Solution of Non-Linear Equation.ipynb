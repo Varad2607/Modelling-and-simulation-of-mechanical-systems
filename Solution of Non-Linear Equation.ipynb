{
 "cells": [
  {
   "cell_type": "code",
   "execution_count": 15,
   "metadata": {},
   "outputs": [
    {
     "name": "stdout",
     "output_type": "stream",
     "text": [
      "Enter the first guess value in degrees : 10\n",
      "Enter the second guess value in degrees : 40\n",
      "Enter the allowable error : 0.00001\n",
      "\n",
      "Required Root is :  25.947079062461853\n"
     ]
    }
   ],
   "source": [
    "import math\n",
    "pi = math.pi\n",
    "def f(x):\n",
    "    return ((2200) * sympy.log((1.6 * (10 ** 5)) / ((1.6 * (10 ** 5)) - 2680 * x))) - (9.81 * x) - (1000)    \n",
    "def bisection(x0,x1,error):\n",
    "    iteration = 1\n",
    "    condition = True\n",
    "    while condition:\n",
    "        x2 = (x0 + x1)/2\n",
    "        if f(x0) * f(x2) < 0:\n",
    "            x1 = x2\n",
    "        else:\n",
    "            x0 = x2   \n",
    "        iteration += 1\n",
    "        condition = abs(f(x2)) > error\n",
    "    print('\\nRequired Root is : ', x2)\n",
    "    \n",
    "x0 = float(input('Enter the first guess value in degrees : '))\n",
    "x1 = float(input('Enter the second guess value in degrees : '))\n",
    "error = float(input('Enter the allowable error : '))\n",
    "\n",
    "if f(x0) * f(x1) > 0:\n",
    "    print('Both the guess values are on the same side of the root')\n",
    "    print('Try again')\n",
    "else:\n",
    "    bisection(x0,x1,error)"
   ]
  },
  {
   "cell_type": "code",
   "execution_count": 10,
   "metadata": {},
   "outputs": [
    {
     "name": "stdout",
     "output_type": "stream",
     "text": [
      "Enter the first guess value in degrees : 30\n",
      "Enter the second guess value in degrees : 45\n",
      "Enter the allowable error : 0.0001\n",
      "\n",
      "Required Root is : 0.58064272\n"
     ]
    }
   ],
   "source": [
    "import mpmath\n",
    "pi = math.pi\n",
    "def f(x):\n",
    "    return ((-1 / 4) + (1 / 2) * (math.exp(-x / (2 * pi)) * math.sin(x)))    \n",
    "def false_position(x0, x1, error):\n",
    "    iteration = 1\n",
    "    condition = True\n",
    "    while condition:\n",
    "        x2 = ((x0 * f(x1)) - (x1 * f(x0))) / (f(x1) - f(x0))\n",
    "        if f(x0) * f(x2) < 0:\n",
    "            x1 = x2\n",
    "        else:\n",
    "            x0 = x2   \n",
    "        iteration += 1\n",
    "        condition = abs(f(x2)) > error\n",
    "    print('\\nRequired Root is : %0.8f' % x2)\n",
    "    \n",
    "x00 = float(input('Enter the first guess value in degrees : '))\n",
    "x0 = math.radians(x00)\n",
    "x11 = float(input('Enter the second guess value in degrees : '))\n",
    "x1 = math.radians(x11)\n",
    "error = float(input('Enter the allowable error : '))\n",
    "\n",
    "if f(x0) * f(x1) > 0:\n",
    "    print('Both the guess values are on the same side of the root')\n",
    "    print('Try again')\n",
    "else:\n",
    "    false_position(x0,x1,error)"
   ]
  },
  {
   "cell_type": "code",
   "execution_count": 17,
   "metadata": {},
   "outputs": [
    {
     "name": "stdout",
     "output_type": "stream",
     "text": [
      "Enter the guess value in seconds : 10\n",
      "x0 =  10.0\n",
      "f(x0) =  -694.791474319416\n",
      "f'(x0) =  34.4542642642643\n",
      "x1 =  30.1656163367868\n",
      "x0 =  30.1656163367868\n",
      "f(x0) =  252.328282264856\n",
      "f'(x0) =  64.6756859862099\n",
      "x1 =  26.2641767398622\n",
      "x0 =  26.2641767398622\n",
      "f(x0) =  17.6543370307737\n",
      "f'(x0) =  55.9847549775421\n",
      "x1 =  25.9488348751375\n",
      "x0 =  25.9488348751375\n",
      "f(x0) =  0.0972239579445500\n",
      "f'(x0) =  55.3700525463622\n",
      "x1 =  25.9470789808685\n",
      "x0 =  25.9470789808685\n",
      "f(x0) =  2.97685988925878e-6\n",
      "f'(x0) =  55.3666618999647\n",
      "x1 =  25.9470789271022\n",
      "x0 =  25.9470789271022\n",
      "f(x0) =  0\n",
      "f'(x0) =  55.3666617961470\n",
      "x1 =  25.9470789271022\n"
     ]
    }
   ],
   "source": [
    "import math\n",
    "import sympy\n",
    "from sympy import symbols, diff\n",
    "x = symbols('x')\n",
    "f = ((2200) * sympy.log((1.6 * (10 ** 5)) / ((1.6 * (10 ** 5)) - 2680 * x))) - (9.81 * x) - (1000)\n",
    "g = diff(f,x)\n",
    "    \n",
    "def newton_rhapson(x0):\n",
    "    condition = True\n",
    "    while condition:\n",
    "        if g.subs(x, x0) == 0.0:\n",
    "            print('Divide by zero error!')\n",
    "            break\n",
    "        print('x0 = ', x0)\n",
    "        print('f(x0) = ', f.subs(x, x0))\n",
    "        print(\"f'(x0) = \", g.subs(x, x0))\n",
    "        if f.subs(x,x0) == 0:\n",
    "            condition = False\n",
    "        x1 = x0 - (f.subs(x, x0) / g.subs(x, x0))\n",
    "        x0 = x1\n",
    "        print('x1 = ', x1)\n",
    "\n",
    "x0 = float(input('Enter the guess value in seconds : '))\n",
    "newton_rhapson(x0)"
   ]
  },
  {
   "cell_type": "code",
   "execution_count": 4,
   "metadata": {},
   "outputs": [
    {
     "name": "stdout",
     "output_type": "stream",
     "text": [
      "\n",
      "\n",
      "SELECT ANY ONE METHOD\n",
      "\n",
      "\n",
      "1. Bisection Method \n",
      "2. False Position Method \n",
      "3. Newton Rhapson Method \n",
      "\n",
      "\n",
      "Enter your selection number : 1\n",
      "Enter the first guess value in degrees : 30\n",
      "Enter the second guess value in degrees : 45\n",
      "Enter the allowable error : 0.001\n",
      "\n",
      "Required Root is : 0.58086739\n"
     ]
    }
   ],
   "source": [
    "import math\n",
    "import sympy\n",
    "from sympy import symbols, diff\n",
    "pi = math.pi\n",
    "\n",
    "def bisection(x0,x1,error):\n",
    "    def f(x):\n",
    "        return ((-1 / 4) + (1 / 2) * (math.exp(-x / (2 * pi)) * math.sin(x)))    \n",
    "    iteration = 1\n",
    "    condition = True\n",
    "    while condition:\n",
    "        x2 = (x0 + x1)/2\n",
    "        if f(x0) * f(x2) < 0:\n",
    "            x1 = x2\n",
    "        else:\n",
    "            x0 = x2   \n",
    "        iteration += 1\n",
    "        condition = abs(f(x2)) > error\n",
    "    print('\\nRequired Root is : %0.8f' % x2)\n",
    "    \n",
    "\n",
    "def false_position(x0, x1, error):\n",
    "    def f(x):\n",
    "        return ((-1 / 4) + (1 / 2) * (math.exp(-x / (2 * pi)) * math.sin(x)))    \n",
    "    iteration = 1\n",
    "    condition = True\n",
    "    while condition:\n",
    "        x2 = ((x0 * f(x1)) - (x1 * f(x0))) / (f(x1) - f(x0))\n",
    "        if f(x0) * f(x2) < 0:\n",
    "            x1 = x2\n",
    "        else:\n",
    "            x0 = x2   \n",
    "        iteration += 1\n",
    "        condition = abs(f(x2)) > error\n",
    "    print('\\nRequired Root is : %0.8f' % x2)\n",
    "    \n",
    "def newton_rhapson(x0, error, limit):\n",
    "    x = symbols('x')\n",
    "    f = ((-1 / 4) + (1 / 2) * (sympy.exp(-x / (2 * pi)) * sympy.sin(x)))\n",
    "    g = diff(f,x)\n",
    "    iteration = 1\n",
    "    flag = 1\n",
    "    condition = True\n",
    "    while condition:\n",
    "        if g.subs(x, x0) == 0.0:\n",
    "            print('Divide by zero error!')\n",
    "            break\n",
    "        x1 = x0 - (f.subs(x, x0) / g.subs(x, x0))\n",
    "        x0 = x1\n",
    "        iteration += 1\n",
    "        if iteration > limit:\n",
    "            flag = 0\n",
    "            break\n",
    "        condition = abs(f.subs(x, x1)) > error\n",
    "    if flag == 1:\n",
    "        print('\\nRequired root is: ' , x1)\n",
    "    else:\n",
    "        print('Not convergent')\n",
    "        \n",
    "print(\"\\n\")\n",
    "print(\"SELECT ANY ONE METHOD\")\n",
    "print(\"\\n\")\n",
    "print(\"1. Bisection Method \")\n",
    "print(\"2. False Position Method \")\n",
    "print(\"3. Newton Rhapson Method \")\n",
    "print(\"\\n\")\n",
    "var = int(input(\"Enter your selection number : \"))\n",
    "if var == 1 or var == 2:\n",
    "    x00 = float(input('Enter the first guess value in degrees : '))\n",
    "    x0 = math.radians(x00)\n",
    "    x11 = float(input('Enter the second guess value in degrees : '))\n",
    "    x1 = math.radians(x11)\n",
    "    error = float(input('Enter the allowable error : '))\n",
    "    def f(x):\n",
    "        return ((-1 / 4) + (1 / 2) * (math.exp(-x / (2 * pi)) * math.sin(x)))    \n",
    "    if f(x0) * f(x1) > 0:\n",
    "        print('Both the guess values are on the same side of the root')\n",
    "        print('Try again')\n",
    "    else:\n",
    "        if var == 1:\n",
    "            bisection(x0, x1, error)\n",
    "        else:\n",
    "            false_position(x0, x1, error)\n",
    "    \n",
    "elif var == 3:\n",
    "    x00 = float(input('Enter the guess value in degrees : '))\n",
    "    x0 = math.radians(x00)\n",
    "    error = float(input('Enter the allowable error : '))\n",
    "    limit = float(input('Enter the maximum number of iterations : '))\n",
    "    newton_rhapson(x0, error, limit)\n",
    "else:\n",
    "    print(\" EXIT \")"
   ]
  },
  {
   "cell_type": "code",
   "execution_count": 18,
   "metadata": {},
   "outputs": [
    {
     "data": {
      "text/latex": [
       "$\\displaystyle -9.81 + \\frac{36.85 \\left(1.0 - 0.01675 x\\right)}{\\left(1 - 0.01675 x\\right)^{2}}$"
      ],
      "text/plain": [
       "-9.81 + 36.85*(1.0 - 0.01675*x)/(1 - 0.01675*x)**2"
      ]
     },
     "execution_count": 18,
     "metadata": {},
     "output_type": "execute_result"
    }
   ],
   "source": [
    "import math\n",
    "import sympy\n",
    "from sympy import symbols, diff\n",
    "x = symbols('x')\n",
    "f = ((2200) * sympy.log((1.6 * (10 ** 5)) / ((1.6 * (10 ** 5)) - 2680 * x))) - (9.81 * x) - (1000)\n",
    "g = diff(f,x)\n",
    "g"
   ]
  },
  {
   "cell_type": "code",
   "execution_count": null,
   "metadata": {},
   "outputs": [],
   "source": []
  }
 ],
 "metadata": {
  "kernelspec": {
   "display_name": "Python 3",
   "language": "python",
   "name": "python3"
  },
  "language_info": {
   "codemirror_mode": {
    "name": "ipython",
    "version": 3
   },
   "file_extension": ".py",
   "mimetype": "text/x-python",
   "name": "python",
   "nbconvert_exporter": "python",
   "pygments_lexer": "ipython3",
   "version": "3.8.3"
  }
 },
 "nbformat": 4,
 "nbformat_minor": 4
}
