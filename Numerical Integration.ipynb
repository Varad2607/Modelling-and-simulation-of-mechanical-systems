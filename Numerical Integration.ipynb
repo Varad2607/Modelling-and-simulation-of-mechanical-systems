{
 "cells": [
  {
   "cell_type": "code",
   "execution_count": 12,
   "metadata": {},
   "outputs": [
    {
     "name": "stdout",
     "output_type": "stream",
     "text": [
      "Select the Rule \n",
      "1. Trapezoidal Rule\n",
      "2. Simpson\"s 1/3rd Rule\n",
      "3. Simpson\"s 3/8th Rule\n",
      "4. Weddle Rule\n",
      "Enter the selection number : 2\n",
      "Enter number of data points: 9\n",
      "x[1]=0\n",
      "x[2]=10\n",
      "x[3]=20\n",
      "x[4]=30\n",
      "x[5]=40\n",
      "x[6]=50\n",
      "x[7]=60\n",
      "x[8]=70\n",
      "x[9]=80\n",
      "f(x1)=30\n",
      "f(x2)=31.63\n",
      "f(x3)=33.34\n",
      "f(x4)=35.47\n",
      "f(x5)=37.75\n",
      "f(x6)=40.33\n",
      "f(x7)=43.25\n",
      "f(x8)=46.69\n",
      "f(x9)=50.67\n",
      "The value of Integral is :  3086.1\n"
     ]
    }
   ],
   "source": [
    "def trapezoidal(x0,xn,n):\n",
    "    h = (xn - x0) / n\n",
    "    integration = f[0] + f[n]\n",
    "    for i in range(1,n):\n",
    "        integration = integration + 2 * f[i]\n",
    "    integration = integration * h / 2 \n",
    "    return integration\n",
    "\n",
    "def simpson13(x0,xn,n):\n",
    "    h = (xn - x0) / n \n",
    "    integration = f[0] + f[n]\n",
    "    for i in range(1,n):\n",
    "        if i%2 == 0:\n",
    "            integration = integration + 2 * f[i]\n",
    "        else:\n",
    "            integration = integration + 4 * f[i]\n",
    "    integration = integration * h / 3\n",
    "    return integration\n",
    "\n",
    "def simpson38(x0,xn,n):\n",
    "    h = (xn - x0) / n \n",
    "    integration = f[0] + f[n]\n",
    "    for i in range(1,n):\n",
    "        if i%3 == 0:\n",
    "            integration = integration + 2 * f[i]\n",
    "        else:\n",
    "            integration = integration + 3 * f[i]\n",
    "    integration = integration * 3 * h / 8\n",
    "    return integration\n",
    "\n",
    "def weddle(x0,xn,n):\n",
    "    h = (xn - x0) / n \n",
    "    integration = 0\n",
    "    if n%6 != 0:\n",
    "        print('Error')\n",
    "    else:\n",
    "        quotient = n / 6\n",
    "        count = 0\n",
    "        i = 0\n",
    "        j = 0\n",
    "        while j < quotient:\n",
    "            while count < 4:\n",
    "                integration = integration + f[i]\n",
    "                i = i + 2\n",
    "                count = count + 1\n",
    "            count = 0\n",
    "            i = i - 7\n",
    "            while count < 2:\n",
    "                integration = integration + 5 * f[i]\n",
    "                i = i + 4\n",
    "                count = count + 1\n",
    "            count = 0\n",
    "            i = i - 6\n",
    "            while count < 1:\n",
    "                integration = integration + 6 * f[i]\n",
    "                count = count + 1\n",
    "            i = i + 3\n",
    "            j = j + 1\n",
    "        integration = integration * 3 * h / 10\n",
    "    return integration\n",
    "\n",
    "print('Select the Rule ')\n",
    "print('1. Trapezoidal Rule')\n",
    "print('2. Simpson\"s 1/3rd Rule')\n",
    "print('3. Simpson\"s 3/8th Rule')\n",
    "print('4. Weddle Rule')\n",
    "\n",
    "num = int(input('Enter the selection number : '))\n",
    "\n",
    "n = int(input('Enter number of data points: '))\n",
    "x = []\n",
    "f = []\n",
    "\n",
    "for i in range(n):\n",
    "    var_x = float(input( 'x['+str(i+1)+']='))\n",
    "    x.append(var_x)\n",
    "for i in range(n):\n",
    "    var_f = float(input( 'f(x'+str(i+1)+')='))\n",
    "    f.append(var_f)\n",
    "\n",
    "if num == 1:\n",
    "    result = trapezoidal(x[0],x[n-1],len(x)-1)\n",
    "    print('The value of Integral is : ',result)\n",
    "    \n",
    "if num == 2:\n",
    "    result = simpson13(x[0],x[n-1],len(x)-1)\n",
    "    print('The value of Integral is : ',result)\n",
    "    \n",
    "if num == 3:\n",
    "    result = simpson38(x[0],x[n-1],len(x)-1)\n",
    "    print('The value of Integral is : ',result)\n",
    "    \n",
    "if num == 4:\n",
    "    result = weddle(x[0],x[n-1],len(x)-1)\n",
    "    print('The value of Integral is : ',result)"
   ]
  },
  {
   "cell_type": "code",
   "execution_count": 35,
   "metadata": {},
   "outputs": [
    {
     "data": {
      "text/plain": [
       "4.051446702919583"
      ]
     },
     "execution_count": 35,
     "metadata": {},
     "output_type": "execute_result"
    }
   ],
   "source": [
    "import math\n",
    "\n",
    "def f(x):\n",
    "    return (math.sin(x) - math.log(x) + math.exp(x))\n",
    "\n",
    "def weddle(x0,xn,n):\n",
    "    h = (xn - x0) / n \n",
    "    integration = 0\n",
    "    if n%6 != 0:\n",
    "        print('Error')\n",
    "    else:\n",
    "        quotient = n / 6\n",
    "        count = 0\n",
    "        i = 0\n",
    "        j = 0\n",
    "        while j < quotient:\n",
    "            while count < 4:\n",
    "                k = x0 + i*h\n",
    "                integration = integration + f(k)\n",
    "                i = i + 2\n",
    "                count = count + 1\n",
    "            count = 0\n",
    "            i = i - 7\n",
    "            while count < 2:\n",
    "                k = x0 + i*h\n",
    "                integration = integration + 5 * f(k)\n",
    "                i = i + 4\n",
    "                count = count + 1\n",
    "            count = 0\n",
    "            i = i - 6\n",
    "            while count < 1:\n",
    "                k = x0 + i*h\n",
    "                integration = integration + 6 * f(k)\n",
    "                count = count + 1\n",
    "            i = i + 3\n",
    "            j = j + 1\n",
    "        integration = integration * 3 * h / 10\n",
    "    return integration\n",
    "\n",
    "weddle(0.2, 1.4, 6)"
   ]
  },
  {
   "cell_type": "code",
   "execution_count": 32,
   "metadata": {},
   "outputs": [
    {
     "name": "stdout",
     "output_type": "stream",
     "text": [
      "0 2 4 6 1 5 3 3\n"
     ]
    }
   ],
   "source": [
    "count = 0\n",
    "i = 0\n",
    "while count < 4:\n",
    "    print(i, end = ' ')\n",
    "    i = i + 2\n",
    "    count = count + 1\n",
    "i = i - 7\n",
    "count = 0\n",
    "while count < 2:\n",
    "    print(i, end = ' ')\n",
    "    i = i + 4\n",
    "    count = count + 1\n",
    "count = 0\n",
    "i = i - 6\n",
    "while count < 1:\n",
    "    print(i, end = ' ')\n",
    "    count = count + 1"
   ]
  },
  {
   "cell_type": "code",
   "execution_count": 5,
   "metadata": {},
   "outputs": [
    {
     "name": "stdout",
     "output_type": "stream",
     "text": [
      "0 30 8\n"
     ]
    }
   ],
   "source": [
    "n = 8\n",
    "x = [0,1,2,3,4,5,6,7,30]\n",
    "print(x[0],x[n],len(x)-1)"
   ]
  },
  {
   "cell_type": "code",
   "execution_count": null,
   "metadata": {},
   "outputs": [],
   "source": []
  }
 ],
 "metadata": {
  "kernelspec": {
   "display_name": "Python 3",
   "language": "python",
   "name": "python3"
  },
  "language_info": {
   "codemirror_mode": {
    "name": "ipython",
    "version": 3
   },
   "file_extension": ".py",
   "mimetype": "text/x-python",
   "name": "python",
   "nbconvert_exporter": "python",
   "pygments_lexer": "ipython3",
   "version": "3.8.3"
  }
 },
 "nbformat": 4,
 "nbformat_minor": 4
}
